{
  "nbformat": 4,
  "nbformat_minor": 0,
  "metadata": {
    "colab": {
      "name": "Joke Generator.ipynb",
      "version": "0.3.2",
      "provenance": [],
      "collapsed_sections": [],
      "toc_visible": true
    },
    "kernelspec": {
      "name": "python3",
      "display_name": "Python 3"
    },
    "accelerator": "GPU"
  },
  "cells": [
    {
      "metadata": {
        "id": "RL2vdtNrr8YP",
        "colab_type": "code",
        "colab": {
          "base_uri": "https://localhost:8080/",
          "height": 153
        },
        "outputId": "db52582b-2e8f-45f9-b3bd-c0798bb28a36"
      },
      "cell_type": "code",
      "source": [
        "from __future__ import print_function\n",
        "import tensorflow\n",
        "from keras.callbacks import LambdaCallback\n",
        "from keras.models import Sequential\n",
        "from keras.layers import Dense\n",
        "from keras.layers import LSTM\n",
        "from keras.optimizers import RMSprop\n",
        "from keras.utils.data_utils import get_file\n",
        "import numpy as np\n",
        "import random\n",
        "import sys\n",
        "import io\n",
        "import pandas as pd\n",
        "\n",
        "filename = \"https://drive.google.com/uc?export=download&id=1Hn-n3cigmUA-IXJykd0wYHtAXT2cigVe\"\n",
        "raw_text = pd.read_csv(filename)\n",
        "raw_text = raw_text.iloc[:,1].values\n",
        "raw_text = raw_text[:int(len(raw_text)/100)]\n",
        "raw_text = \" \".join(raw_text)\n",
        "text = raw_text.lower()\n",
        "\n",
        "\n",
        "chars = sorted(list(set(text)))\n",
        "print('total chars:', len(chars))\n",
        "char_indices = dict((c, i) for i, c in enumerate(chars))\n",
        "indices_char = dict((i, c) for i, c in enumerate(chars))\n",
        "\n",
        "maxlen = 40\n",
        "step = 3\n",
        "sentences = []\n",
        "next_chars = []\n",
        "for i in range(0, len(text) - maxlen, step):\n",
        "    sentences.append(text[i: i + maxlen])\n",
        "    next_chars.append(text[i + maxlen])\n",
        "print('nb sequences:', len(sentences))\n",
        "\n",
        "print('Vectorization...')\n",
        "x = np.zeros((len(sentences), maxlen, len(chars)), dtype=np.bool)\n",
        "y = np.zeros((len(sentences), len(chars)), dtype=np.bool)\n",
        "for i, sentence in enumerate(sentences):\n",
        "    for t, char in enumerate(sentence):\n",
        "        x[i, t, char_indices[char]] = 1\n",
        "    y[i, char_indices[next_chars[i]]] = 1\n",
        "\n",
        "\n",
        "print('Build model...')\n",
        "model = Sequential()\n",
        "model.add(LSTM(256, input_shape=(maxlen, len(chars))))\n",
        "model.add(Dense(len(chars), activation='softmax'))\n",
        "model.compile(loss='categorical_crossentropy', optimizer='adam')\n",
        "\n",
        "model.fit(x, y,\n",
        "          batch_size=128,\n",
        "          epochs=2)\n",
        "\n",
        "json_string = model.to_json()\n",
        "model.save_weights('model_weights.h5')"
      ],
      "execution_count": 64,
      "outputs": [
        {
          "output_type": "stream",
          "text": [
            "total chars: 64\n",
            "nb sequences: 71836\n",
            "Vectorization...\n",
            "Build model...\n",
            "Epoch 1/2\n",
            "71836/71836 [==============================] - 67s 936us/step - loss: 2.7724\n",
            "Epoch 2/2\n",
            "71836/71836 [==============================] - 65s 911us/step - loss: 2.3595\n"
          ],
          "name": "stdout"
        }
      ]
    },
    {
      "metadata": {
        "id": "eMoF8poq4URl",
        "colab_type": "code",
        "colab": {}
      },
      "cell_type": "code",
      "source": [
        "def generate_joke():\n",
        "  start_index = random.randint(0, len(text) - maxlen - 1)\n",
        "  for diversity in [0.5]:\n",
        "      #print('----- diversity:', diversity)\n",
        "\n",
        "      generated = ''\n",
        "      sentence = text[start_index: start_index + maxlen]\n",
        "      generated += sentence\n",
        "      #print('----- Generating with seed: \"' + sentence + '\"')\n",
        "\n",
        "      for i in range(800):\n",
        "          x_pred = np.zeros((1, maxlen, len(chars)))\n",
        "          for t, char in enumerate(sentence):\n",
        "              x_pred[0, t, char_indices[char]] = 1.\n",
        "\n",
        "          preds = model.predict(x_pred, verbose=0)[0]\n",
        "          next_index = sample(preds, diversity)\n",
        "          next_char = indices_char[next_index]\n",
        "\n",
        "          generated += next_char\n",
        "          sentence = sentence[1:] + next_char\n",
        "\n",
        "      print(sentence)"
      ],
      "execution_count": 0,
      "outputs": []
    },
    {
      "metadata": {
        "id": "kcAIWthBv5Pq",
        "colab_type": "code",
        "colab": {}
      },
      "cell_type": "code",
      "source": [
        "from keras.models import model_from_json\n",
        "\n",
        "model = model_from_json(json_string)\n",
        "model.load_weights('model_weights.h5')\n",
        "model.compile(loss='categorical_crossentropy',optimizer='adam',metrics=['accuracy'])"
      ],
      "execution_count": 0,
      "outputs": []
    },
    {
      "metadata": {
        "id": "5YgGpcYxv8Mf",
        "colab_type": "code",
        "colab": {
          "base_uri": "https://localhost:8080/",
          "height": 204
        },
        "outputId": "ce0085f0-2edf-4b5b-f246-3b006967e634"
      },
      "cell_type": "code",
      "source": [
        "num_of_jokes = int(input(\"How many jokes do you want?: \"))\n",
        "\n",
        "for i in range(num_of_jokes):\n",
        "  generate_joke()"
      ],
      "execution_count": 69,
      "outputs": [
        {
          "output_type": "stream",
          "text": [
            "How many jokes do you want?: 10\n",
            " dovat shill now what the lois cand a th\n",
            "o whe par of f ande whibe fore the pitha\n",
            "ather mameras you be is the cof the i fe\n",
            " is lise in a fane sis dad dith a deint \n",
            "e wing to the bout the mexen the sard th\n",
            "dor wha lithe our the inep sey the jome \n",
            "ickter on and in mon fry the wher the an\n",
            " is whit the ping bos the in what san ch\n",
            "the dere is and the doring oo hat the pi\n",
            "e tha way hou in the pererand ipe wand t\n"
          ],
          "name": "stdout"
        }
      ]
    }
  ]
}